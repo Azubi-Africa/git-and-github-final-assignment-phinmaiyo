{
 "cells": [
  {
   "cell_type": "code",
   "execution_count": 1,
   "id": "304924b4",
   "metadata": {},
   "outputs": [],
   "source": [
    "# guess a number game"
   ]
  },
  {
   "cell_type": "code",
   "execution_count": 2,
   "id": "31fdcc2a",
   "metadata": {},
   "outputs": [],
   "source": [
    "# Objectives\n",
    "# input function\n",
    "# program generates random number 1-15\n",
    "# user inputs random number\n",
    "# program check user guess , output \"try again wrong guess\" if guess is wrong\n",
    "# show random number and close the program if correct"
   ]
  },
  {
   "cell_type": "code",
   "execution_count": 3,
   "id": "bf8f3284",
   "metadata": {},
   "outputs": [],
   "source": [
    "import random\n",
    "random1=random.randint(1,15)\n"
   ]
  },
  {
   "cell_type": "code",
   "execution_count": 4,
   "id": "eb7d6c2b",
   "metadata": {},
   "outputs": [
    {
     "name": "stdout",
     "output_type": "stream",
     "text": [
      "guess number:9\n"
     ]
    }
   ],
   "source": [
    "user_guess=int(input('guess number:'))"
   ]
  },
  {
   "cell_type": "code",
   "execution_count": 5,
   "id": "0eb08939",
   "metadata": {},
   "outputs": [
    {
     "name": "stdout",
     "output_type": "stream",
     "text": [
      "try again wrong guess\n"
     ]
    }
   ],
   "source": [
    "if user_guess>random1:\n",
    "    print(\"try again wrong guess\")\n",
    "elif user_guess<random1:\n",
    "    print(\"try again wrong guess\")\n",
    "else:\n",
    "    print(f\"you have won,the random number is: {random1}\")\n"
   ]
  },
  {
   "cell_type": "code",
   "execution_count": null,
   "id": "0c3a91f5",
   "metadata": {},
   "outputs": [],
   "source": []
  }
 ],
 "metadata": {
  "kernelspec": {
   "display_name": "Python 3 (ipykernel)",
   "language": "python",
   "name": "python3"
  },
  "language_info": {
   "codemirror_mode": {
    "name": "ipython",
    "version": 3
   },
   "file_extension": ".py",
   "mimetype": "text/x-python",
   "name": "python",
   "nbconvert_exporter": "python",
   "pygments_lexer": "ipython3",
   "version": "3.10.9"
  }
 },
 "nbformat": 4,
 "nbformat_minor": 5
}
